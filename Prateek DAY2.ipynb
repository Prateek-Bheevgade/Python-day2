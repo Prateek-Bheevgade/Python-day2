{
 "cells": [
  {
   "cell_type": "raw",
   "id": "dffc667d",
   "metadata": {},
   "source": [
    "rules for declaring the variables in python:"
   ]
  },
  {
   "cell_type": "code",
   "execution_count": null,
   "id": "7bda9045",
   "metadata": {},
   "outputs": [],
   "source": []
  },
  {
   "cell_type": "code",
   "execution_count": null,
   "id": "bec8daf5",
   "metadata": {},
   "outputs": [],
   "source": [
    "2. A variable name should not start with a number ** "
   ]
  },
  {
   "cell_type": "code",
   "execution_count": 1,
   "id": "ec372c85",
   "metadata": {},
   "outputs": [
    {
     "ename": "SyntaxError",
     "evalue": "invalid syntax (Temp/ipykernel_10220/3324889648.py, line 1)",
     "output_type": "error",
     "traceback": [
      "\u001b[1;36m  File \u001b[1;32m\"C:\\Users\\91928\\AppData\\Local\\Temp/ipykernel_10220/3324889648.py\"\u001b[1;36m, line \u001b[1;32m1\u001b[0m\n\u001b[1;33m    1name = 'Prateek'\u001b[0m\n\u001b[1;37m     ^\u001b[0m\n\u001b[1;31mSyntaxError\u001b[0m\u001b[1;31m:\u001b[0m invalid syntax\n"
     ]
    }
   ],
   "source": [
    "1name = 'Prateek'\n",
    "print(1name)\n"
   ]
  },
  {
   "cell_type": "code",
   "execution_count": 2,
   "id": "5624e5d9",
   "metadata": {},
   "outputs": [
    {
     "name": "stdout",
     "output_type": "stream",
     "text": [
      "Prateek\n"
     ]
    }
   ],
   "source": [
    "name1 = 'Prateek'\n",
    "print(name1)"
   ]
  },
  {
   "cell_type": "code",
   "execution_count": null,
   "id": "7f882665",
   "metadata": {},
   "outputs": [],
   "source": [
    "3. A variable name should not contain any Special characters in it."
   ]
  },
  {
   "cell_type": "code",
   "execution_count": null,
   "id": "5a3900a0",
   "metadata": {},
   "outputs": [],
   "source": [
    "@&$"
   ]
  },
  {
   "cell_type": "code",
   "execution_count": null,
   "id": "b3a8482f",
   "metadata": {},
   "outputs": [],
   "source": []
  },
  {
   "cell_type": "code",
   "execution_count": null,
   "id": "93dae8ac",
   "metadata": {},
   "outputs": [],
   "source": [
    "commenting the code in python : "
   ]
  },
  {
   "cell_type": "code",
   "execution_count": null,
   "id": "cbbc9b2e",
   "metadata": {},
   "outputs": [],
   "source": [
    "#this is a code"
   ]
  },
  {
   "cell_type": "code",
   "execution_count": 3,
   "id": "74c2f16d",
   "metadata": {},
   "outputs": [],
   "source": [
    "#---> is used for commenting the lines"
   ]
  },
  {
   "cell_type": "code",
   "execution_count": 4,
   "id": "97e824ac",
   "metadata": {},
   "outputs": [],
   "source": [
    "# for executing the cells----> Shift + Enter Button"
   ]
  },
  {
   "cell_type": "code",
   "execution_count": null,
   "id": "41157d01",
   "metadata": {},
   "outputs": [],
   "source": []
  },
  {
   "cell_type": "code",
   "execution_count": 6,
   "id": "0234cc85",
   "metadata": {},
   "outputs": [],
   "source": [
    "#Introduction to DataTypes In pythons : "
   ]
  },
  {
   "cell_type": "code",
   "execution_count": null,
   "id": "cad1533a",
   "metadata": {},
   "outputs": [],
   "source": [
    "1. String \n",
    "\n",
    "2. Numbers -----> Integers and Floats [Decimals]\n",
    "\n",
    "3. List\n",
    "4. Tuple\n",
    "5. Dictionaries\n"
   ]
  },
  {
   "cell_type": "code",
   "execution_count": null,
   "id": "7fa8e11f",
   "metadata": {},
   "outputs": [],
   "source": []
  },
  {
   "cell_type": "code",
   "execution_count": 10,
   "id": "5b05662f",
   "metadata": {},
   "outputs": [
    {
     "ename": "IndentationError",
     "evalue": "unexpected indent (Temp/ipykernel_10220/1961408126.py, line 3)",
     "output_type": "error",
     "traceback": [
      "\u001b[1;36m  File \u001b[1;32m\"C:\\Users\\91928\\AppData\\Local\\Temp/ipykernel_10220/1961408126.py\"\u001b[1;36m, line \u001b[1;32m3\u001b[0m\n\u001b[1;33m    Boardly data Types are Classified in to Two Categoeries :\u001b[0m\n\u001b[1;37m    ^\u001b[0m\n\u001b[1;31mIndentationError\u001b[0m\u001b[1;31m:\u001b[0m unexpected indent\n"
     ]
    }
   ],
   "source": [
    "#Classofication of Datatypes : \n",
    "\n",
    "    Boardly data Types are Classified in to Two Categoeries :\n",
    "        \n",
    "        1. mutable datatypes-----> it is a Flexible data type ----> which we can edit and alter\n",
    "        2. immutable datatypes -----> it is a Fixed data type -----> which we Cannot Edit or alter\n"
   ]
  },
  {
   "cell_type": "code",
   "execution_count": 11,
   "id": "beaf5d64",
   "metadata": {},
   "outputs": [],
   "source": [
    "# Introduction to String Datatypes: "
   ]
  },
  {
   "cell_type": "code",
   "execution_count": 12,
   "id": "6334fceb",
   "metadata": {},
   "outputs": [
    {
     "ename": "SyntaxError",
     "evalue": "invalid syntax (Temp/ipykernel_10220/418690337.py, line 1)",
     "output_type": "error",
     "traceback": [
      "\u001b[1;36m  File \u001b[1;32m\"C:\\Users\\91928\\AppData\\Local\\Temp/ipykernel_10220/418690337.py\"\u001b[1;36m, line \u001b[1;32m1\u001b[0m\n\u001b[1;33m    Defination : A String is a Series of characters declared in quotes.\u001b[0m\n\u001b[1;37m                   ^\u001b[0m\n\u001b[1;31mSyntaxError\u001b[0m\u001b[1;31m:\u001b[0m invalid syntax\n"
     ]
    }
   ],
   "source": [
    "Defination : A String is a Series of characters declared in quotes.\n",
    "    Classification : it is Classified as immutable datatypes\n",
    "        How to Declare the String: \n",
    "            1. Single Quote\n",
    "            2. Double Quote\n",
    "            3. Triple Quote\n",
    "        "
   ]
  },
  {
   "cell_type": "code",
   "execution_count": 14,
   "id": "84944312",
   "metadata": {},
   "outputs": [
    {
     "name": "stdout",
     "output_type": "stream",
     "text": [
      "Prateek\n"
     ]
    }
   ],
   "source": [
    "name = 'Prateek'\n",
    "print(name)     #single Quote"
   ]
  },
  {
   "cell_type": "code",
   "execution_count": 15,
   "id": "1ac67ed5",
   "metadata": {},
   "outputs": [
    {
     "name": "stdout",
     "output_type": "stream",
     "text": [
      "Prateeksha\n"
     ]
    }
   ],
   "source": [
    "name = \"Prateeksha\"\n",
    "print(name) \n"
   ]
  },
  {
   "cell_type": "markdown",
   "id": "7dbd4c4e",
   "metadata": {},
   "source": []
  },
  {
   "cell_type": "code",
   "execution_count": 16,
   "id": "edefb49f",
   "metadata": {},
   "outputs": [
    {
     "name": "stdout",
     "output_type": "stream",
     "text": [
      "Vaibhav\n"
     ]
    }
   ],
   "source": [
    "name = \"\"\"Vaibhav\"\"\" #Triple Quotes \n",
    "print(name)\n"
   ]
  },
  {
   "cell_type": "code",
   "execution_count": null,
   "id": "84736fec",
   "metadata": {},
   "outputs": [],
   "source": []
  }
 ],
 "metadata": {
  "kernelspec": {
   "display_name": "Python 3 (ipykernel)",
   "language": "python",
   "name": "python3"
  },
  "language_info": {
   "codemirror_mode": {
    "name": "ipython",
    "version": 3
   },
   "file_extension": ".py",
   "mimetype": "text/x-python",
   "name": "python",
   "nbconvert_exporter": "python",
   "pygments_lexer": "ipython3",
   "version": "3.9.7"
  }
 },
 "nbformat": 4,
 "nbformat_minor": 5
}
